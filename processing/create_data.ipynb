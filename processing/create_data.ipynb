{
 "cells": [
  {
   "cell_type": "code",
   "execution_count": 1,
   "outputs": [],
   "source": [
    "import json\n",
    "dataset = []\n",
    "with open('/Users/sherylhsu/PycharmProjects/CS224N_proj/data/finalWords.json', 'r') as f:\n",
    "    # print(len(f.readlines()))\n",
    "    # print(len(f.readlines())[0][1279980:1280100])\n",
    "\n",
    "    data = json.load(f)\n"
   ],
   "metadata": {
    "collapsed": false,
    "pycharm": {
     "name": "#%%\n"
    }
   }
  },
  {
   "cell_type": "code",
   "execution_count": 2,
   "outputs": [
    {
     "name": "stdout",
     "output_type": "stream",
     "text": [
      "1612003\n"
     ]
    }
   ],
   "source": [
    "print(len(data))"
   ],
   "metadata": {
    "collapsed": false,
    "pycharm": {
     "name": "#%%\n"
    }
   }
  },
  {
   "cell_type": "code",
   "execution_count": 5,
   "outputs": [],
   "source": [
    "import string\n",
    "printable = set(string.printable)\n",
    "def format_string(str):\n",
    "    str = str.replace('\\r\\n', ' ').replace('\\n', ' ').replace(\"\\\"\", \"\").replace(\"\\\"\", '')\n",
    "    str = ''.join(list(filter(lambda x: x in printable, str)))\n",
    "    return str"
   ],
   "metadata": {
    "collapsed": false,
    "pycharm": {
     "name": "#%%\n"
    }
   }
  },
  {
   "cell_type": "code",
   "execution_count": 6,
   "outputs": [],
   "source": [
    "from transformers import AutoTokenizer, GPT2DoubleHeadsModel\n",
    "\n",
    "tokenizer = AutoTokenizer.from_pretrained(\"gpt2\")\n",
    "existing_vocab = tokenizer.get_vocab()\n"
   ],
   "metadata": {
    "collapsed": false,
    "pycharm": {
     "name": "#%%\n"
    }
   }
  },
  {
   "cell_type": "code",
   "execution_count": 9,
   "outputs": [
    {
     "name": "stdout",
     "output_type": "stream",
     "text": [
      "21950\n"
     ]
    },
    {
     "ename": "KeyError",
     "evalue": "'cOmponent'",
     "output_type": "error",
     "traceback": [
      "\u001B[0;31m---------------------------------------------------------------------------\u001B[0m",
      "\u001B[0;31mKeyError\u001B[0m                                  Traceback (most recent call last)",
      "Cell \u001B[0;32mIn[9], line 8\u001B[0m\n\u001B[1;32m      1\u001B[0m \u001B[38;5;66;03m# count = 0\u001B[39;00m\n\u001B[1;32m      2\u001B[0m \u001B[38;5;66;03m# for i in existing_vocab:\u001B[39;00m\n\u001B[1;32m      3\u001B[0m \u001B[38;5;66;03m#     if count > 10:\u001B[39;00m\n\u001B[1;32m      4\u001B[0m \u001B[38;5;66;03m#         break\u001B[39;00m\n\u001B[1;32m      5\u001B[0m \u001B[38;5;66;03m#     count += 1\u001B[39;00m\n\u001B[1;32m      6\u001B[0m \u001B[38;5;66;03m#     print(i)\u001B[39;00m\n\u001B[1;32m      7\u001B[0m \u001B[38;5;28mprint\u001B[39m(existing_vocab[\u001B[38;5;124m\"\u001B[39m\u001B[38;5;124mComponent\u001B[39m\u001B[38;5;124m\"\u001B[39m])\n\u001B[0;32m----> 8\u001B[0m \u001B[38;5;28mprint\u001B[39m(\u001B[43mexisting_vocab\u001B[49m\u001B[43m[\u001B[49m\u001B[38;5;124;43m\"\u001B[39;49m\u001B[38;5;124;43mcOmponent\u001B[39;49m\u001B[38;5;124;43m\"\u001B[39;49m\u001B[43m]\u001B[49m)\n",
      "\u001B[0;31mKeyError\u001B[0m: 'cOmponent'"
     ]
    }
   ],
   "source": [
    "# count = 0\n",
    "# for i in existing_vocab:\n",
    "#     if count > 10:\n",
    "#         break\n",
    "#     count += 1\n",
    "#     print(i)\n",
    "\n"
   ],
   "metadata": {
    "collapsed": false,
    "pycharm": {
     "name": "#%%\n"
    }
   }
  },
  {
   "cell_type": "code",
   "execution_count": 17,
   "outputs": [
    {
     "name": "stdout",
     "output_type": "stream",
     "text": [
      "0\n",
      "1000\n",
      "2000\n",
      "3000\n",
      "4000\n",
      "5000\n",
      "6000\n",
      "7000\n",
      "8000\n",
      "9000\n",
      "9000\n",
      "9000\n",
      "10000\n",
      "10000\n",
      "11000\n",
      "11000\n",
      "12000\n",
      "13000\n",
      "13000\n",
      "13000\n",
      "14000\n",
      "15000\n",
      "16000\n",
      "17000\n",
      "18000\n",
      "18000\n",
      "19000\n",
      "20000\n",
      "21000\n",
      "22000\n",
      "22000\n",
      "23000\n",
      "24000\n",
      "24000\n",
      "25000\n",
      "26000\n",
      "26000\n",
      "27000\n",
      "28000\n",
      "29000\n",
      "29000\n",
      "29000\n",
      "30000\n",
      "31000\n",
      "32000\n",
      "33000\n",
      "34000\n",
      "35000\n",
      "36000\n",
      "37000\n",
      "38000\n",
      "38000\n",
      "38000\n",
      "39000\n",
      "40000\n",
      "41000\n",
      "41000\n",
      "42000\n",
      "43000\n",
      "43000\n",
      "44000\n",
      "45000\n",
      "46000\n",
      "47000\n",
      "48000\n",
      "48000\n",
      "49000\n",
      "49000\n",
      "50000\n"
     ]
    }
   ],
   "source": [
    "import random\n",
    "count = 50000\n",
    "words = []\n",
    "f_data = {}\n",
    "c = 0\n",
    "check_against = [i.lower() for i in existing_vocab]\n",
    "already_seen = []\n",
    "train_str = \"\"\n",
    "while True:\n",
    "    index = random.randint(0, len(data) - 1)\n",
    "    obj = data[index]\n",
    "    # print(obj)\n",
    "    if c > count:\n",
    "        break\n",
    "    if c % 1000 == 0:\n",
    "        print(c)\n",
    "    word = obj[\"word\"].strip()\n",
    "\n",
    "    if word.lower() in check_against or \"Ġ\" + word.lower() in check_against or word.lower() in check_against:\n",
    "        continue\n",
    "\n",
    "    words.append(word)\n",
    "    check_against.append(word.lower())\n",
    "    definition = format_string(obj[\"definition\"])\n",
    "    example = format_string(obj[\"example\"])\n",
    "    f_data[word] = [definition, example]\n",
    "    train_str += word + \" means \" + definition + \"\\n\"\n",
    "    c += 1\n"
   ],
   "metadata": {
    "collapsed": false,
    "pycharm": {
     "name": "#%%\n"
    }
   }
  },
  {
   "cell_type": "code",
   "execution_count": 18,
   "outputs": [
    {
     "name": "stdout",
     "output_type": "stream",
     "text": [
      "25000 12500 12501\n"
     ]
    }
   ],
   "source": [
    "# 50/25/25 split for example\n",
    "from sklearn.model_selection import train_test_split\n",
    "val_str = \"\"\n",
    "eval_str = \"\"\n",
    "train, other = train_test_split(words, test_size=0.5)\n",
    "val, eval = train_test_split(other, test_size=0.5)\n",
    "print(len(train), len(val), len(eval))"
   ],
   "metadata": {
    "collapsed": false,
    "pycharm": {
     "name": "#%%\n"
    }
   }
  },
  {
   "cell_type": "code",
   "execution_count": 19,
   "outputs": [],
   "source": [
    "for w in train:\n",
    "    train_str += f_data[w][1] + \"\\n\"\n",
    "for w in val:\n",
    "    val_str += f_data[w][1] + \"\\n\"\n",
    "for w in eval:\n",
    "    eval_str += w + \"\\n\""
   ],
   "metadata": {
    "collapsed": false,
    "pycharm": {
     "name": "#%%\n"
    }
   }
  },
  {
   "cell_type": "code",
   "execution_count": 20,
   "outputs": [],
   "source": [
    "folder = \"final_data\"\n",
    "with open('../data/' + folder + '/finetune_train.txt', \"w+\", encoding='utf-8') as f:\n",
    "    for i in train_str:\n",
    "        f.write(i)\n",
    "    f.close()\n",
    "with open('../data/' + folder + '/finetune_val.txt', \"w+\", encoding='utf-8') as f:\n",
    "    for i in val_str:\n",
    "        f.write(i)\n",
    "    f.close()\n",
    "with open('../data/' + folder + '/finetune_eval.txt', \"w+\", encoding='utf-8') as f:\n",
    "    for i in eval_str:\n",
    "        f.write(i)\n",
    "    f.close()\n",
    "with open('../data/' + folder + '/finetune_eval.txt', \"w+\", encoding='utf-8') as f:\n",
    "    for i in eval_str:\n",
    "        f.write(i)\n",
    "    f.close()"
   ],
   "metadata": {
    "collapsed": false,
    "pycharm": {
     "name": "#%%\n"
    }
   }
  },
  {
   "cell_type": "code",
   "execution_count": 21,
   "outputs": [],
   "source": [
    "with open('../data/' + folder + '/words.txt', \"w+\", encoding='utf-8') as f:\n",
    "    for i in words:\n",
    "        f.write(i + \"\\n\")\n",
    "    f.close()"
   ],
   "metadata": {
    "collapsed": false,
    "pycharm": {
     "name": "#%%\n"
    }
   }
  },
  {
   "cell_type": "code",
   "execution_count": 26,
   "outputs": [
    {
     "name": "stdout",
     "output_type": "stream",
     "text": [
      "['hi', 'Ġmy', 'new', 'word']\n",
      "4\n",
      "['hi', 'Ġmy', 'Ġname', 'Ġis', 'Ġ', 'astro-turds']\n",
      "['hi', 'Ġmy', 'new', 'Word', '2']\n"
     ]
    }
   ],
   "source": [
    "tokenizer = AutoTokenizer.from_pretrained(\"gpt2\")\n",
    "\n",
    "print(tokenizer.tokenize(\"hi mynewword\"))\n",
    "# text_index = tokenizer.encode('man')\n",
    "new_word_list = [\"aaaa\", \"bbbbb\"]\n",
    "\n",
    "# num_new_words = len(new_word_list)\n",
    "#print(new_word_list[0])\n",
    "#print(tokenizer.convert_ids_to_tokens(tokenizer((new_word_list[0]))['input_ids']))\n",
    "num_added = tokenizer.add_tokens([\"://google.com\",\"astro-turds\", \"mynewword\", \"mynewword2\"])\n",
    "print(num_added)\n",
    "print(tokenizer.tokenize(\"hi my name is astro-turds\"))\n",
    "print(tokenizer.tokenize(\"hi mynewWord2\"))\n"
   ],
   "metadata": {
    "collapsed": false,
    "pycharm": {
     "name": "#%%\n"
    }
   }
  },
  {
   "cell_type": "code",
   "execution_count": null,
   "outputs": [],
   "source": [],
   "metadata": {
    "collapsed": false,
    "pycharm": {
     "name": "#%%\n"
    }
   }
  }
 ],
 "metadata": {
  "kernelspec": {
   "display_name": "Python 3",
   "language": "python",
   "name": "python3"
  },
  "language_info": {
   "codemirror_mode": {
    "name": "ipython",
    "version": 2
   },
   "file_extension": ".py",
   "mimetype": "text/x-python",
   "name": "python",
   "nbconvert_exporter": "python",
   "pygments_lexer": "ipython2",
   "version": "2.7.6"
  }
 },
 "nbformat": 4,
 "nbformat_minor": 0
}