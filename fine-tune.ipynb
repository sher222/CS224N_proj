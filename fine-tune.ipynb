{
 "cells": [
  {
   "cell_type": "code",
   "execution_count": 7,
   "metadata": {},
   "outputs": [],
   "source": [
    "from transformers import GPT2LMHeadModel, GPT2Tokenizer\n",
    "import torch\n",
    "import json\n",
    "import numpy as np\n",
    "from torch.utils.data import Dataset, DataLoader\n",
    "\n",
    "#instantiate model and tokenizer\n",
    "model_name = 'gpt2'\n",
    "tokenizer = GPT2Tokenizer.from_pretrained(model_name)\n",
    "model = GPT2LMHeadModel.from_pretrained(model_name)\n",
    "\n"
   ]
  },
  {
   "cell_type": "markdown",
   "metadata": {},
   "source": [
    "initialize new words"
   ]
  },
  {
   "cell_type": "code",
   "execution_count": 12,
   "metadata": {},
   "outputs": [
    {
     "ename": "RuntimeError",
     "evalue": "a view of a leaf Variable that requires grad is being used in an in-place operation.",
     "output_type": "error",
     "traceback": [
      "\u001b[0;31m---------------------------------------------------------------------------\u001b[0m",
      "\u001b[0;31mRuntimeError\u001b[0m                              Traceback (most recent call last)",
      "Cell \u001b[0;32mIn[12], line 30\u001b[0m\n\u001b[1;32m     28\u001b[0m \u001b[38;5;66;03m# Add new embeddings to embedding matrix\u001b[39;00m\n\u001b[1;32m     29\u001b[0m model\u001b[38;5;241m.\u001b[39mresize_token_embeddings(\u001b[38;5;28mlen\u001b[39m(tokenizer))\n\u001b[0;32m---> 30\u001b[0m \u001b[43mmodel\u001b[49m\u001b[38;5;241;43m.\u001b[39;49m\u001b[43mtransformer\u001b[49m\u001b[38;5;241;43m.\u001b[39;49m\u001b[43mwte\u001b[49m\u001b[38;5;241;43m.\u001b[39;49m\u001b[43mweight\u001b[49m\u001b[43m[\u001b[49m\u001b[38;5;241;43m-\u001b[39;49m\u001b[43mnum_new_words\u001b[49m\u001b[43m:\u001b[49m\u001b[43m]\u001b[49m \u001b[38;5;241m=\u001b[39m new_embeddings\n",
      "\u001b[0;31mRuntimeError\u001b[0m: a view of a leaf Variable that requires grad is being used in an in-place operation."
     ]
    }
   ],
   "source": [
    "#add tokens \n",
    "\n",
    "# Load the JSON file containing the new words and their definitions\n",
    "with open(\"data/finalWords.json\", \"r\") as f:\n",
    "    new_words = json.load(f)\n",
    "\n",
    "# Get the current vocabulary size\n",
    "original_vocab_size = len(tokenizer)\n",
    "\n",
    "# Add the new words to the tokenizer\n",
    "new_word_list = [word_obj[\"word\"] for word_obj in new_words]\n",
    "num_added = tokenizer.add_tokens(new_word_list)\n",
    "model.resize_token_embeddings(len(tokenizer))\n",
    "\n",
    "# Compute mean and variance of existing embeddings\n",
    "embedding_weights = model.transformer.wte.weight\n",
    "mean = torch.mean(embedding_weights, dim=0)\n",
    "variance = torch.mean((embedding_weights - mean) ** 2, dim=0)\n",
    "\n",
    "# Generate embeddings for new words\n",
    "num_new_words = len(new_word_list)\n",
    "new_embeddings = torch.empty((num_new_words, embedding_weights.size()[1]), requires_grad=True)\n",
    "for i in range(num_new_words):\n",
    "    new_embeddings[i] = torch.from_numpy(\n",
    "        np.random.normal(mean.detach().numpy(), np.sqrt(variance.detach().numpy()), size=(embedding_weights.size()[1],))\n",
    "    )\n",
    "\n",
    "# Add new embeddings to embedding matrix\n",
    "model.resize_token_embeddings(len(tokenizer))\n",
    "embedding_weights = model.transformer.wte.weight.detach().clone()\n",
    "embedding_weights[-num_new_words:] = new_embeddings\n",
    "model.transformer.wte.weight.data = embedding_weights\n"
   ]
  },
  {
   "cell_type": "code",
   "execution_count": null,
   "metadata": {},
   "outputs": [],
   "source": [
    "#Compute the distribution from which we’ll sample:\n",
    "params = model.state_dict()\n",
    "embeddings = params['transformer.wte.weight']\n",
    "pre_expansion_embeddings = embeddings[:-(len(tokenizer)-original_vocab_size),:]\n",
    "mu = torch.mean(pre_expansion_embeddings, dim=0)\n",
    "n = pre_expansion_embeddings.size()[0]\n",
    "sigma = ((pre_expansion_embeddings - mu).T @ (pre_expansion_embeddings - mu)) / n\n",
    "dist = torch.distributions.multivariate_normal.MultivariateNormal(\n",
    "        mu, covariance_matrix=1e-5*sigma)\n",
    "\n",
    "\n",
    "#load in our new embeddings into the model:\n",
    "new_embeddings = torch.stack(tuple((dist.sample() for _ in range(3))), dim=0)\n",
    "embeddings[-3:,:] = new_embeddings\n",
    "params['transformer.wte.weight'][-3:,:] = new_embeddings\n",
    "model.load_state_dict(params)"
   ]
  },
  {
   "cell_type": "code",
   "execution_count": null,
   "metadata": {},
   "outputs": [],
   "source": [
    "#load the corpus\n",
    "with open('definitions.txt', 'r') as f:\n",
    "    corpus = f.read()\n",
    "    \n",
    "#tokenize the corpus\n",
    "tokenized_corpus = tokenizer.encode(corpus)"
   ]
  },
  {
   "cell_type": "code",
   "execution_count": null,
   "metadata": {},
   "outputs": [],
   "source": [
    "#split the tokenized corpus into chunks of tokens\n",
    "max_length = 128\n",
    "stride = 64\n",
    "\n",
    "inputs = []\n",
    "labels = []\n",
    "for i in range(0, len(tokenized_corpus) - max_length, stride):\n",
    "    inputs.append(tokenized_corpus[i:i+max_length])\n",
    "    labels.append(tokenized_corpus[i+1:i+1+max_length])\n",
    "\n",
    "#convert the inputs and labels into tensors\n",
    "inputs = torch.tensor(inputs)\n",
    "labels = torch.tensor(labels)"
   ]
  },
  {
   "cell_type": "code",
   "execution_count": 1,
   "metadata": {},
   "outputs": [
    {
     "ename": "NameError",
     "evalue": "name 'Dataset' is not defined",
     "output_type": "error",
     "traceback": [
      "\u001b[0;31m---------------------------------------------------------------------------\u001b[0m",
      "\u001b[0;31mNameError\u001b[0m                                 Traceback (most recent call last)",
      "Cell \u001b[0;32mIn[1], line 2\u001b[0m\n\u001b[1;32m      1\u001b[0m \u001b[38;5;66;03m#fine-tune the model on custom corpus\u001b[39;00m\n\u001b[0;32m----> 2\u001b[0m \u001b[38;5;28;01mclass\u001b[39;00m \u001b[38;5;21;01mCustomDataset\u001b[39;00m(\u001b[43mDataset\u001b[49m):\n\u001b[1;32m      3\u001b[0m     \u001b[38;5;28;01mdef\u001b[39;00m \u001b[38;5;21m__init__\u001b[39m(\u001b[38;5;28mself\u001b[39m, inputs, labels):\n\u001b[1;32m      4\u001b[0m         \u001b[38;5;28mself\u001b[39m\u001b[38;5;241m.\u001b[39minputs \u001b[38;5;241m=\u001b[39m inputs\n",
      "\u001b[0;31mNameError\u001b[0m: name 'Dataset' is not defined"
     ]
    }
   ],
   "source": [
    "#fine-tune the model on custom corpus\n",
    "class CustomDataset(Dataset):\n",
    "    def __init__(self, inputs, labels):\n",
    "        self.inputs = inputs\n",
    "        self.labels = labels\n",
    "\n",
    "    def __len__(self):\n",
    "        return len(self.inputs)\n",
    "\n",
    "    def __getitem__(self, idx):\n",
    "        return self.inputs[idx], self.labels[idx]\n",
    "\n",
    "batch_size = 16\n",
    "num_epochs = 10\n",
    "learning_rate = 2e-5\n",
    "\n",
    "dataset = CustomDataset(inputs, labels)\n",
    "dataloader = DataLoader(dataset, batch_size=batch_size, shuffle=True)\n",
    "\n",
    "optimizer = torch.optim.Adam(model.parameters(), lr=learning_rate)\n",
    "loss_fn = torch.nn.CrossEntropyLoss()\n",
    "\n",
    "device = torch.device('cuda' if torch.cuda.is_available() else 'cpu')\n",
    "model.to(device)\n",
    "\n",
    "for epoch in range(num_epochs):\n",
    "    running_loss = 0.0\n",
    "    model.train()\n",
    "    for batch in dataloader:\n",
    "        optimizer.zero_grad()\n",
    "        input_ids, labels = batch\n",
    "        input_ids = input_ids.to(device)\n",
    "        labels = labels.to(device)\n",
    "        outputs = model(input_ids, labels=labels)\n",
    "        loss = loss_fn(outputs.logits.view(-1, outputs.logits.shape[-1]), labels.view(-1))\n",
    "        loss.backward()\n",
    "        optimizer.step()\n",
    "        running_loss += loss.item()\n",
    "    print('Epoch {} loss: {:.4f}'.format(epoch+1, running_loss/len(dataloader)))"
   ]
  },
  {
   "cell_type": "code",
   "execution_count": null,
   "metadata": {},
   "outputs": [],
   "source": [
    "model.save_pretrained('fine-tuned-gpt2')\n",
    "tokenizer.save_pretrained('fine-tuned-gpt2')"
   ]
  }
 ],
 "metadata": {
  "kernelspec": {
   "display_name": "Python 3.9.15 ('py39')",
   "language": "python",
   "name": "python3"
  },
  "language_info": {
   "codemirror_mode": {
    "name": "ipython",
    "version": 3
   },
   "file_extension": ".py",
   "mimetype": "text/x-python",
   "name": "python",
   "nbconvert_exporter": "python",
   "pygments_lexer": "ipython3",
   "version": "3.9.15"
  },
  "orig_nbformat": 4,
  "vscode": {
   "interpreter": {
    "hash": "0c259f8a0ab8cae8600c2d914888b9c4f54382130559791b634cf67ec39ea37f"
   }
  }
 },
 "nbformat": 4,
 "nbformat_minor": 2
}
