{
 "cells": [
  {
   "cell_type": "code",
   "execution_count": null,
   "metadata": {},
   "outputs": [],
   "source": [
    "import transformers\n",
    "import torch"
   ]
  },
  {
   "cell_type": "code",
   "execution_count": null,
   "metadata": {},
   "outputs": [],
   "source": [
    "'''\n",
    "Let’s go back to our running example. First, \n",
    "we instantiate a model and tokenizer, add our new tokens, \n",
    "and resize the embeddings.\n",
    "'''\n",
    "tok = transformers.GPT2Tokenizer.from_pretrained('gpt2')\n",
    "model = transformers.AutoModelForCausalLM.from_pretrained('gpt2')\n",
    "tok.add_tokens(['Aragorn', 'Frodo', 'Lothlorien'])\n",
    "model.resize_token_embeddings(len(tok))"
   ]
  }
 ],
 "metadata": {
  "kernelspec": {
   "display_name": "Python 3.9.15 ('py39')",
   "language": "python",
   "name": "python3"
  },
  "language_info": {
   "name": "python",
   "version": "3.9.15"
  },
  "orig_nbformat": 4,
  "vscode": {
   "interpreter": {
    "hash": "0c259f8a0ab8cae8600c2d914888b9c4f54382130559791b634cf67ec39ea37f"
   }
  }
 },
 "nbformat": 4,
 "nbformat_minor": 2
}
