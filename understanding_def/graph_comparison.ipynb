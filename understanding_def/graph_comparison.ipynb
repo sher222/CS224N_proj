{
  "nbformat": 4,
  "nbformat_minor": 0,
  "metadata": {
    "colab": {
      "provenance": []
    },
    "kernelspec": {
      "name": "python3",
      "display_name": "Python 3"
    },
    "language_info": {
      "name": "python"
    }
  },
  "cells": [
    {
      "cell_type": "code",
      "source": [
        "from google.colab import drive\n",
        "drive.mount('/content/drive')"
      ],
      "metadata": {
        "colab": {
          "base_uri": "https://localhost:8080/"
        },
        "id": "j78p51xfpZpW",
        "outputId": "8f138729-874c-4d4e-c406-c7df235234f9"
      },
      "execution_count": null,
      "outputs": [
        {
          "output_type": "stream",
          "name": "stdout",
          "text": [
            "Mounted at /content/drive\n"
          ]
        }
      ]
    },
    {
      "cell_type": "code",
      "source": [
        "%cd /content/drive/MyDrive/data/compare_5/\n",
        "! ls"
      ],
      "metadata": {
        "colab": {
          "base_uri": "https://localhost:8080/"
        },
        "id": "g1miMa5wpc3n",
        "outputId": "bfed506d-2f4b-4b97-e382-684f7c57ccb1"
      },
      "execution_count": null,
      "outputs": [
        {
          "output_type": "stream",
          "name": "stdout",
          "text": [
            "/content/drive/.shortcut-targets-by-id/1lTbeLKl99_-ux0hJXW-AtqLq-J_M1fIm/data/compare_5\n",
            "adapter.txt\t      predict_embeddings.txt  random_baseline.txt\n",
            "average_baseline.txt  pretrain_random.txt\n"
          ]
        }
      ]
    },
    {
      "cell_type": "code",
      "execution_count": null,
      "metadata": {
        "id": "isrtPFKAo2Hj"
      },
      "outputs": [],
      "source": [
        "filenames = [\"random_baseline\", \"average_baseline\", \"pretrain_average\", \"pretrain_random\", \"adapter\", \"predict_embeddings\"]\n",
        "N = len(filenames)\n",
        "# pretrain_average\n",
        "data = [[] for i in range(0, len(filenames))]\n",
        "for i in range(0, len(filenames)):\n",
        "  f = open(filenames[i] + \".txt\", \"r\")\n",
        "  for j in f.readlines():\n",
        "    data[i].append(int(j))"
      ]
    },
    {
      "cell_type": "code",
      "source": [
        "total = [[0 for i in range(0, N)] for j in range(0, N)]\n",
        "success = [[0 for i in range(0, N)] for j in range(0, N)]\n",
        "for i in range(0, N):\n",
        "  for j in range(i, N):\n",
        "    for k in range(0, len(data[i])):\n",
        "      if data[i][k] == -1 or data[j][k] == -1:\n",
        "        continue\n",
        "      total[i][j] += 1\n",
        "      if data[i][k] == data[j][k]:\n",
        "        success[i][j] += 1\n",
        "prob = [[0 for i in range(0, N)] for j in range(0, N)]\n",
        "for i in range(0, N):\n",
        "  for j in range(i, N):\n",
        "    prob[i][j] = success[i][j]/total[i][j]\n",
        "    prob[j][i] = prob[i][j]"
      ],
      "metadata": {
        "colab": {
          "base_uri": "https://localhost:8080/",
          "height": 302
        },
        "id": "8kloii_opwoB",
        "outputId": "395f1f3f-2727-4473-d6b3-8f0b697da8a9"
      },
      "execution_count": null,
      "outputs": [
        {
          "output_type": "stream",
          "name": "stdout",
          "text": [
            "[[1.0, 0.1972761040033017, 0.21378456458935205, 0.2054477919933966, 0.19661576557985969, 0.2050520059435364], [0.1972761040033017, 1.0, 0.19975237309120925, 0.20610813041683862, 0.20247626908790756, 0.1982829783721314], [0.21378456458935205, 0.19975237309120925, 1.0, 0.2018984729673958, 0.2008254230293025, 0.19787023278850915], [0.2054477919933966, 0.20610813041683862, 0.2018984729673958, 1.0, 0.20198101527032605, 0.1849925705794948], [0.19661576557985969, 0.20247626908790756, 0.2008254230293025, 0.20198101527032605, 1.0, 0.197292388971438], [0.2050520059435364, 0.1982829783721314, 0.19787023278850915, 0.1849925705794948, 0.197292388971438, 1.0]]\n"
          ]
        },
        {
          "output_type": "display_data",
          "data": {
            "text/plain": [
              "<Figure size 432x288 with 1 Axes>"
            ],
            "image/png": "[encoded data removed]"
          },
          "metadata": {
            "needs_background": "light"
          }
        }
      ]
    },
    {
      "cell_type": "code",
      "source": [
        "print(prob)\n",
        "import matplotlib.pyplot as plt\n",
        "import seaborn as sns\n",
        "\n",
        "ax = sns.heatmap(prob, linewidth=0.5)\n",
        "plt.show()\n"
      ],
      "metadata": {
        "colab": {
          "base_uri": "https://localhost:8080/",
          "height": 306
        },
        "id": "Aq1bU0GTqyKC",
        "outputId": "dc63c6e4-43c9-4e38-c596-62083421a806"
      },
      "execution_count": null,
      "outputs": [
        {
          "output_type": "stream",
          "name": "stdout",
          "text": [
            "[[1.0, 0.1972761040033017, 0.21378456458935205, 0.2054477919933966, 0.19661576557985969, 0.2050520059435364], [0.1972761040033017, 1.0, 0.19975237309120925, 0.20610813041683862, 0.20247626908790756, 0.1982829783721314], [0.21378456458935205, 0.19975237309120925, 1.0, 0.2018984729673958, 0.2008254230293025, 0.19787023278850915], [0.2054477919933966, 0.20610813041683862, 0.2018984729673958, 1.0, 0.20198101527032605, 0.1849925705794948], [0.19661576557985969, 0.20247626908790756, 0.2008254230293025, 0.20198101527032605, 1.0, 0.197292388971438], [0.2050520059435364, 0.1982829783721314, 0.19787023278850915, 0.1849925705794948, 0.197292388971438, 1.0]]\n"
          ]
        },
        {
          "output_type": "display_data",
          "data": {
            "text/plain": [
              "<Figure size 432x288 with 2 Axes>"
            ],
            "image/png": "[encoded data removed]"
          },
          "metadata": {
            "needs_background": "light"
          }
        }
      ]
    }
  ]
}