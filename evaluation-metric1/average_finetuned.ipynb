{
 "cells": [
  {
   "cell_type": "code",
   "execution_count": 1,
   "metadata": {},
   "outputs": [],
   "source": [
    "from transformers import pipeline, AutoTokenizer, AutoModelWithLMHead, GPT2Config\n",
    "from transformers import GPT2LMHeadModel, GPT2Tokenizer\n",
    "import torch\n",
    "import json\n",
    "import random\n",
    "from transformers import AutoTokenizer, GPT2DoubleHeadsModel"
   ]
  },
  {
   "cell_type": "code",
   "execution_count": 2,
   "metadata": {},
   "outputs": [
    {
     "name": "stderr",
     "output_type": "stream",
     "text": [
      "Special tokens have been added in the vocabulary, make sure the associated word embeddings are fine-tuned or trained.\n"
     ]
    }
   ],
   "source": [
    "# Load the JSON file\n",
    "with open('../data/finalWords.json') as f:\n",
    "    words = json.load(f)\n",
    "\n",
    "\n",
    "#model_name = 'gpt2'\n",
    "model_path = \"../models/average-model\"\n",
    "tokenizer_path = \"../models/average-token\"\n",
    "tokenizer = AutoTokenizer.from_pretrained(tokenizer_path)\n",
    "config_path = \"../models/average-model/config.json\"\n",
    "config = GPT2Config.from_json_file(config_path)\n",
    "model = GPT2DoubleHeadsModel.from_pretrained(model_path, config = config)"
   ]
  },
  {
   "cell_type": "code",
   "execution_count": 3,
   "metadata": {},
   "outputs": [
    {
     "name": "stdout",
     "output_type": "stream",
     "text": [
      "7501\n"
     ]
    }
   ],
   "source": [
    "# get new words\n",
    "with open('../data/finetune_eval.txt', 'r') as file:\n",
    "    lines = file.readlines()\n",
    "\n",
    "new_words = [word.strip() for line in lines for word in line.split()]\n",
    "print(len(new_words))"
   ]
  },
  {
   "cell_type": "code",
   "execution_count": 4,
   "metadata": {},
   "outputs": [],
   "source": [
    "# Initialize the quiz questions and answers\n",
    "quiz_questions = []\n",
    "quiz_answers = []\n",
    "new_words_copy = new_words[:]\n",
    "# Loop through each word in the JSON file\n",
    "count = 0\n",
    "\n",
    "for word in words:\n",
    "    if word['word'] in new_words:\n",
    "        new_words.remove(word['word'])\n",
    "        example = word['example']\n",
    "        # Get a list of 3 random words to use as distractors\n",
    "        distractors = random.sample(new_words_copy, 4)\n",
    "        # Add the correct answer to the beginning of the options list\n",
    "        options = [word['example'] + \" [CLS]\"] + [example.replace(word['word'], word_choice) + \" [CLS]\" for word_choice in distractors]\n",
    "        # Add the question and set the answer to 0\n",
    "        quiz_questions.append(options)\n",
    "        quiz_answers.append(0)\n",
    "        count += 1"
   ]
  },
  {
   "cell_type": "code",
   "execution_count": 5,
   "metadata": {},
   "outputs": [
    {
     "name": "stdout",
     "output_type": "stream",
     "text": [
      "7501\n",
      "2809.0\n",
      "603.0\n",
      "645.0\n",
      "679.0\n",
      "1323.0\n",
      "6059.0\n"
     ]
    }
   ],
   "source": [
    "# Add a [CLS] to the vocabulary (we should train it also!)\n",
    "num_added_tokens = tokenizer.add_special_tokens({\"cls_token\": \"[CLS]\"})\n",
    "# Update the model embeddings with the new vocabulary size\n",
    "embedding_layer = model.resize_token_embeddings(len(tokenizer))\n",
    "\n",
    "questions = quiz_questions\n",
    "answers = quiz_answers\n",
    "\n",
    "count0 = 0.0\n",
    "count1 = 0.0\n",
    "count2 = 0.0\n",
    "count3 = 0.0\n",
    "count4 = 0.0\n",
    "total = 0.0\n",
    "for i, choices in enumerate(questions):\n",
    "    #print(choices)\n",
    "    encoded_choices = [tokenizer.encode(s) for s in choices]\n",
    "    cls_token_location = [tokens.index(tokenizer.cls_token_id) for tokens in encoded_choices]\n",
    "    #check if some choices are longer than the others\n",
    "    max_len = max([len(tokens) for tokens in encoded_choices])\n",
    "    check = True\n",
    "    for tokens in encoded_choices:\n",
    "        if len(tokens) < max_len:\n",
    "            check = False\n",
    "    if check:\n",
    "        input_ids = torch.tensor(encoded_choices).unsqueeze(0)  # Batch size: 1, number of choices: 2\n",
    "        mc_token_ids = torch.tensor([cls_token_location])  # Batch size: 1\n",
    "        outputs = model(input_ids, mc_token_ids=mc_token_ids)\n",
    "        lm_logits = outputs.logits\n",
    "        mc_logits = outputs.mc_logits\n",
    "        if mc_logits.argmax().item() == 0:\n",
    "            count0 += 1\n",
    "        elif mc_logits.argmax().item() == 1:\n",
    "            count1 += 1\n",
    "        elif mc_logits.argmax().item() == 2:\n",
    "            count2 += 1\n",
    "        elif mc_logits.argmax().item() == 3:\n",
    "            count3 += 1\n",
    "        elif mc_logits.argmax().item() == 4:\n",
    "            count4 += 1\n",
    "        \n",
    "        total += 1\n",
    "\n",
    "print(len(questions))\n",
    "print(count0)\n",
    "print(count1)\n",
    "print(count2)\n",
    "print(count3)\n",
    "print(count4)\n",
    "print(total)"
   ]
  }
 ],
 "metadata": {
  "kernelspec": {
   "display_name": "Python 3 (ipykernel)",
   "language": "python",
   "name": "python3"
  },
  "language_info": {
   "codemirror_mode": {
    "name": "ipython",
    "version": 3
   },
   "file_extension": ".py",
   "mimetype": "text/x-python",
   "name": "python",
   "nbconvert_exporter": "python",
   "pygments_lexer": "ipython3",
   "version": "3.9.15"
  },
  "orig_nbformat": 4,
  "vscode": {
   "interpreter": {
    "hash": "0c259f8a0ab8cae8600c2d914888b9c4f54382130559791b634cf67ec39ea37f"
   }
  }
 },
 "nbformat": 4,
 "nbformat_minor": 2
}
