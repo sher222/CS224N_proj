{
 "cells": [
  {
   "cell_type": "code",
   "execution_count": 1,
   "metadata": {},
   "outputs": [],
   "source": [
    "from transformers import pipeline, AutoTokenizer, AutoModelWithLMHead\n",
    "from transformers import GPT2LMHeadModel, GPT2Tokenizer\n",
    "import torch\n",
    "import json\n",
    "import random\n",
    "from transformers import AutoTokenizer, GPT2DoubleHeadsModel"
   ]
  },
  {
   "cell_type": "code",
   "execution_count": 2,
   "metadata": {},
   "outputs": [
    {
     "name": "stderr",
     "output_type": "stream",
     "text": [
      "Some weights of GPT2DoubleHeadsModel were not initialized from the model checkpoint at gpt2 and are newly initialized: ['multiple_choice_head.summary.bias', 'multiple_choice_head.summary.weight']\n",
      "You should probably TRAIN this model on a down-stream task to be able to use it for predictions and inference.\n"
     ]
    },
    {
     "data": {
      "text/plain": [
       "Embedding(55625, 768)"
      ]
     },
     "execution_count": 2,
     "metadata": {},
     "output_type": "execute_result"
    }
   ],
   "source": [
    "# Load the JSON file\n",
    "with open('../data/finalWords.json') as f:\n",
    "    words = json.load(f)\n",
    "\n",
    "model_name = 'gpt2'\n",
    "\n",
    "tokenizer = AutoTokenizer.from_pretrained(\"gpt2\")\n",
    "model = GPT2DoubleHeadsModel.from_pretrained(\"gpt2\")\n",
    "\n",
    "# Get the current vocabulary size\n",
    "original_vocab_size = len(tokenizer)\n",
    "new_word_list = [str(word_obj[\"word\"]) for word_obj in words]\n",
    "num_new_words = len(new_word_list)\n",
    "\n",
    "num_added = tokenizer.add_tokens(new_word_list)\n",
    "\n",
    "model.resize_token_embeddings(len(tokenizer))\n"
   ]
  },
  {
   "cell_type": "code",
   "execution_count": 3,
   "metadata": {},
   "outputs": [],
   "source": [
    "# Initialize the quiz questions and answers\n",
    "quiz_questions = []\n",
    "quiz_answers = []\n",
    "\n",
    "# Loop through each word in the JSON file\n",
    "for word in words:\n",
    "    # Get the example sentence for this word\n",
    "    example = word['example']\n",
    "    # Get a list of 3 random words to use as distractors\n",
    "    distractors = random.sample([w['word'] for w in words if w['word'] != word['word']], 3)\n",
    "    # Replace the word in the example sentence with each distractor and the correct answer\n",
    "    options = [example.replace(word['word'], word_choice) + \" [CLS]\" for word_choice in distractors + [word['word']]]\n",
    "    # Shuffle the options\n",
    "    random.shuffle(options)\n",
    "    # Add the question and answer to the quiz arrays\n",
    "    quiz_questions.append(options)\n",
    "    quiz_answers.append(options.index(example + \" [CLS]\"))\n",
    "\n"
   ]
  },
  {
   "cell_type": "code",
   "execution_count": 4,
   "metadata": {},
   "outputs": [
    {
     "name": "stdout",
     "output_type": "stream",
     "text": [
      "total:  5714.0\n",
      "correct:  2751.0\n",
      "accuracy:  0.4814490724536227\n"
     ]
    }
   ],
   "source": [
    "# Add a [CLS] to the vocabulary (we should train it also!)\n",
    "num_added_tokens = tokenizer.add_special_tokens({\"cls_token\": \"[CLS]\"})\n",
    "# Update the model embeddings with the new vocabulary size\n",
    "embedding_layer = model.resize_token_embeddings(len(tokenizer))\n",
    "\n",
    "questions = quiz_questions\n",
    "answers = quiz_answers\n",
    "\n",
    "count = 0.0\n",
    "total = 0.0\n",
    "for i, choices in enumerate(questions):\n",
    "    #print(choices)\n",
    "    encoded_choices = [tokenizer.encode(s) for s in choices]\n",
    "    cls_token_location = [tokens.index(tokenizer.cls_token_id) for tokens in encoded_choices]\n",
    "    #check if some choices are longer than the others\n",
    "    max_len = max([len(tokens) for tokens in encoded_choices])\n",
    "    check = True\n",
    "    for tokens in encoded_choices:\n",
    "        if len(tokens) < max_len:\n",
    "            check = False\n",
    "    if check:\n",
    "        input_ids = torch.tensor(encoded_choices).unsqueeze(0)  # Batch size: 1, number of choices: 2\n",
    "        mc_token_ids = torch.tensor([cls_token_location])  # Batch size: 1\n",
    "        outputs = model(input_ids, mc_token_ids=mc_token_ids)\n",
    "        lm_logits = outputs.logits\n",
    "        mc_logits = outputs.mc_logits\n",
    "        if mc_logits.argmax().item() == answers[i]:\n",
    "            count += 1\n",
    "        total += 1\n",
    "\n",
    "print('total: ', total)\n",
    "print('correct: ', count)\n",
    "print('accuracy: ', count/total)"
   ]
  }
 ],
 "metadata": {
  "kernelspec": {
   "display_name": "Python 3.9.15 ('py39')",
   "language": "python",
   "name": "python3"
  },
  "language_info": {
   "codemirror_mode": {
    "name": "ipython",
    "version": 3
   },
   "file_extension": ".py",
   "mimetype": "text/x-python",
   "name": "python",
   "nbconvert_exporter": "python",
   "pygments_lexer": "ipython3",
   "version": "3.9.15"
  },
  "orig_nbformat": 4,
  "vscode": {
   "interpreter": {
    "hash": "0c259f8a0ab8cae8600c2d914888b9c4f54382130559791b634cf67ec39ea37f"
   }
  }
 },
 "nbformat": 4,
 "nbformat_minor": 2
}
